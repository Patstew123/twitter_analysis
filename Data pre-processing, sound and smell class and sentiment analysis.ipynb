{
 "cells": [
  {
   "cell_type": "code",
   "execution_count": 2,
   "metadata": {},
   "outputs": [],
   "source": [
    "# This section is for pre-processing the raw data pulled in from Twitter\n",
    "# This is to be run after the appropriate data has been pulled using the Twitter API and placed in data.csv"
   ]
  },
  {
   "cell_type": "code",
   "execution_count": 3,
   "metadata": {},
   "outputs": [],
   "source": [
    "# First all relevant packages are imported\n",
    "import pandas as pd\n",
    "import numpy as np\n",
    "import csv\n",
    "import re\n",
    "import preprocessor as p\n",
    "from nltk.corpus import stopwords\n",
    "from nltk.stem.wordnet import WordNetLemmatizer\n",
    "from nltk import SnowballStemmer\n",
    "from nltk.tokenize import word_tokenize\n",
    "from gensim.parsing.preprocessing import remove_stopwords\n",
    "from afinn import Afinn"
   ]
  },
  {
   "cell_type": "code",
   "execution_count": 4,
   "metadata": {},
   "outputs": [],
   "source": [
    "# Raw dataset is read in\n",
    "twitter_df = pd.read_csv(\"data.csv\")"
   ]
  },
  {
   "cell_type": "code",
   "execution_count": 5,
   "metadata": {},
   "outputs": [],
   "source": [
    "# Basic pre-processing\n",
    "# Drop line if not English\n",
    "twitter_df = twitter_df[twitter_df.lang == 'en']\n",
    "# Drop duplicates\n",
    "twitter_df = twitter_df.drop_duplicates()\n",
    "# Drop any NA texts\n",
    "twitter_df['text'] = twitter_df['tweet'].dropna()\n",
    "# Convert to lower case\n",
    "twitter_df['text'] = twitter_df['text'].str.lower()\n",
    "# Apply preprocessing package - suports cleaning of\n",
    "# URLs, hashtags, mentions, reserved words, emojis and smileys\n",
    "twitter_df['text'] = twitter_df['text'].apply(lambda x: p.clean(x))\n",
    "# Get rid of non-letter characters\n",
    "twitter_df['text'] = twitter_df['text'].apply(lambda x: re.sub(r\"[^a-z\\s\\(\\-:\\)\\\\\\/\\];='#]\", '', x))\n",
    "# Lemmatization and stemming\n",
    "# Define lemmatizer and stemmer from package\n",
    "lmt = WordNetLemmatizer()\n",
    "stemmer = SnowballStemmer(\"english\")\n",
    "# Define  function from lemmatixation and stemming\n",
    "def lemma_and_stem(strng):\n",
    "    '''Word stemmer; find the root of the word. E.g. 'dogs' becomes 'dog'''\n",
    "    strng = strng.lower()\n",
    "    word = lmt.lemmatize(strng)\n",
    "    word = stemmer.stem(strng)\n",
    "    return word\n",
    "# Apply function\n",
    "twitter_df['text'] = twitter_df['text'].apply(lemma_and_stem)\n",
    "# Remove all stopwords and tokenize in one\n",
    "twitter_df['text'] = twitter_df['text'].apply(lambda x: remove_stopwords(x))\n",
    "# Drop duplicates on text so only original left\n",
    "twitter_df = twitter_df.drop_duplicates(subset=['text'])\n",
    "# Finally tokenise text\n",
    "# Processing done"
   ]
  },
  {
   "cell_type": "code",
   "execution_count": 6,
   "metadata": {},
   "outputs": [],
   "source": [
    "# We also have to split the coordinates into two separate columns\n",
    "twitter_df['coordinates'] = twitter_df['coordinates'].str.findall(r\"(?<=\\[)([^]]+)(?=\\])\")\n",
    "# Split out coordinates\n",
    "# Latitude\n",
    "twitter_df['coordinates'] = twitter_df['coordinates'].astype(str)\n",
    "new = twitter_df['coordinates'].str.split(\" \", n=2, expand=True)\n",
    "new[0] = new[0].str.extract(r\"([-+]?\\d*\\.*\\d+|\\d+)\", expand=False)\n",
    "new[1] = new[1].str.extract(r\"([-+]?\\d*\\.*\\d+|\\d+)\", expand=False)\n",
    "# Longitude\n",
    "twitter_df['Latitude'] = new[0]\n",
    "twitter_df['Longitude'] = new[1]\n",
    "# Change created-at date to just day/month/year - no need for exact time in day\n",
    "twitter_df['created_at'] = pd.to_datetime(twitter_df['created_at'])\n",
    "twitter_df['created_at'] = twitter_df['created_at'].dt.tz_localize(None).dt.floor('d')\n",
    "twitter_df['created_at'] = twitter_df['created_at'].apply(lambda x: x.strftime('%Y-%m-%d'))\n",
    "# Coordinates done\n"
   ]
  },
  {
   "cell_type": "code",
   "execution_count": 7,
   "metadata": {},
   "outputs": [],
   "source": [
    "# Now apply sentiment analysis with afinn package\n",
    "# The Afinn package automativally downloads the lexicon but we have also provided raw versions of the\n",
    "# lexicon in the data folder for your own convenience\n",
    "afinn = Afinn()\n",
    "afinn_scores = [afinn.score(text) for text in twitter_df['text']]\n",
    "twitter_df['afinn'] = afinn_scores\n",
    "# Translate this to a sentiment\n",
    "def sentiment(row):\n",
    "    if row['afinn'] == 0:\n",
    "        sentiment = 'Neutral'\n",
    "    if row['afinn'] > 0:\n",
    "        sentiment = 'Positive'\n",
    "    if row['afinn'] < 0:\n",
    "        sentiment = 'Negative'\n",
    "    return sentiment\n",
    "# Apply sentiment function\n",
    "twitter_df['Sentiment'] = twitter_df.apply(sentiment, axis=1)\n",
    "# Generate colours\n",
    "twitter_df['Sentiment'] = twitter_df['Sentiment'].astype(str)\n",
    "def intensity(row):\n",
    "        if row['Sentiment'] == 'Positive':\n",
    "            val = 'blue'\n",
    "        elif row['Sentiment'] == 'Negative':\n",
    "            val = 'red'\n",
    "        else:\n",
    "            val = 'yellow'\n",
    "        return val\n",
    "twitter_df['Color'] = twitter_df.apply(intensity, axis=1)\n",
    "twitter_df['text'] = twitter_df['text'].apply(word_tokenize)\n",
    "# End of sentiment analysis"
   ]
  },
  {
   "cell_type": "code",
   "execution_count": 8,
   "metadata": {},
   "outputs": [],
   "source": [
    "# Now we add two extra columns for sound and smell respectively\n",
    "# Starting with smell\n",
    "# Read in smell dictionary\n",
    "smell_lines = open(\"lexicons/smell_dictionary_eng.txt\", \"r\")\n",
    "# Build smell words list\n",
    "smell_read_in_file = smell_lines.readlines()\n",
    "temporary_list = []\n",
    "for element in smell_read_in_file:\n",
    "    temporary_list.append(element.replace('\\t',', '))\n",
    "smell_list = []\n",
    "for element in temporary_list:\n",
    "    smell_list.append(element.strip())  \n",
    "# Split into two lists for overall groupings and individual words\n",
    "# We just want to see how many relate to smell\n",
    "smell_words = []\n",
    "perc_count = 0\n",
    "for element in smell_list:\n",
    "    if '%' in element:\n",
    "        perc_count = perc_count + 1        \n",
    "    if perc_count >= 2:\n",
    "        smell_words.append(element)\n",
    "# See how many words have something of interest to the current tweets set\n",
    "def get_rid_of_perc(data_list):\n",
    "    new_list = []\n",
    "    for element in data_list:\n",
    "        if '%' not in element:\n",
    "            new_list.append(element)\n",
    "    return new_list\n",
    "# Apply to both lists\n",
    "smell_words = get_rid_of_perc(smell_words)\n",
    "# Just create list with smell words in it\n",
    "smell_words_final = []\n",
    "for element in smell_words:\n",
    "    element = re.sub(r'([^a-zA-Z ]+?)','', element)\n",
    "    element = re.sub('\\W+', '', element)\n",
    "    smell_words_final.append(element)"
   ]
  },
  {
   "cell_type": "code",
   "execution_count": 9,
   "metadata": {},
   "outputs": [],
   "source": [
    "# Now we do the same process for sound\n",
    "# Read in sound dictionary\n",
    "sound_lines = open(\"lexicons/sound_dictionary_eng.txt\", \"r\")\n",
    "# Build sound words list\n",
    "sound_read_in_file = sound_lines.readlines()\n",
    "temporary_list = []\n",
    "for element in sound_read_in_file:\n",
    "    temporary_list.append(element.replace('\\t',', '))\n",
    "sound_list = []\n",
    "for element in temporary_list:\n",
    "    sound_list.append(element.strip())  \n",
    "# Split into two lists for overall groupings and individual words\n",
    "# We just want to see how many relate to sound\n",
    "sound_words = []\n",
    "perc_count = 0\n",
    "for element in sound_list:\n",
    "    if '%' in element:\n",
    "        perc_count = perc_count + 1        \n",
    "    if perc_count >= 2:\n",
    "        sound_words.append(element)\n",
    "# See how many words have something of interest to the current tweets set\n",
    "def get_rid_of_perc(data_list):\n",
    "    new_list = []\n",
    "    for element in data_list:\n",
    "        if '%' not in element:\n",
    "            new_list.append(element)\n",
    "    return new_list\n",
    "# Apply to both lists\n",
    "sound_words = get_rid_of_perc(sound_words)\n",
    "# Just create list with smell words in it\n",
    "sound_words_final = []\n",
    "for element in sound_words:\n",
    "    element = re.sub(r'([^a-zA-Z ]+?)','', element)\n",
    "    element = re.sub('\\W+', '', element)\n",
    "    sound_words_final.append(element)"
   ]
  },
  {
   "cell_type": "code",
   "execution_count": 10,
   "metadata": {},
   "outputs": [],
   "source": [
    "# Now we add the actual sound and smell columns\n",
    "# Add sound column\n",
    "def sound(row):\n",
    "    text = row['text']\n",
    "    value = 0\n",
    "    for element in text:\n",
    "        if element in sound_words_final:\n",
    "            value = value + 1\n",
    "    if value == 0:\n",
    "        sound = \"No\"\n",
    "    else:\n",
    "        sound = \"Yes\"\n",
    "    return sound\n",
    "twitter_df['sound'] = twitter_df.apply(sound, axis=1)\n",
    "# Add smell \n",
    "def smell(row):\n",
    "    text = row['text']\n",
    "    value = 0\n",
    "    for element in text:\n",
    "        if element in smell_words_final:\n",
    "            value = value + 1\n",
    "    if value == 0:\n",
    "        smell = \"No\"\n",
    "    else:\n",
    "        smell = \"Yes\"\n",
    "    return smell\n",
    "twitter_df['smell'] = twitter_df.apply(smell, axis=1)"
   ]
  },
  {
   "cell_type": "code",
   "execution_count": 11,
   "metadata": {},
   "outputs": [
    {
     "name": "stdout",
     "output_type": "stream",
     "text": [
      "578128 words total, with a vocabulary size of 49031\n",
      "Max tweet length is 90\n"
     ]
    },
    {
     "name": "stderr",
     "output_type": "stream",
     "text": [
      "C:\\Users\\patri\\anaconda3\\lib\\site-packages\\seaborn\\_decorators.py:36: FutureWarning: Pass the following variable as a keyword arg: x. From version 0.12, the only valid positional argument will be `data`, and passing other arguments without an explicit keyword will result in an error or misinterpretation.\n",
      "  warnings.warn(\n"
     ]
    },
    {
     "data": {
      "image/png": "[encoded data removed]",
      "text/plain": [
       "<Figure size 1080x576 with 1 Axes>"
      ]
     },
     "metadata": {
      "needs_background": "light"
     },
     "output_type": "display_data"
    }
   ],
   "source": [
    "# Finally we visualise to make sure the output is appropriate from this\n",
    "all_words = [word for tokens in twitter_df['text'] for word in tokens]\n",
    "# Store all tweet lengths\n",
    "tweet_lengths = [len(tokens) for tokens in twitter_df['text']]\n",
    "# Store all the words sorted\n",
    "vocab = sorted(list(set(all_words)))\n",
    "print('{} words total, with a vocabulary size of {}'.format(len(all_words), len(vocab)))\n",
    "print('Max tweet length is {}'.format(max(tweet_lengths)))\n",
    "# PLot this graph\n",
    "import seaborn as sns\n",
    "import matplotlib.pyplot as plt\n",
    "plt.figure(figsize = (15,8))\n",
    "sns.countplot(tweet_lengths)\n",
    "plt.title('Tweet Length Distribution', fontsize = 18)\n",
    "plt.xlabel('Words per Tweet', fontsize = 12)\n",
    "plt.ylabel('Number of Tweets', fontsize = 12)\n",
    "plt.show()\n",
    "# EDA done"
   ]
  },
  {
   "cell_type": "code",
   "execution_count": 12,
   "metadata": {},
   "outputs": [],
   "source": [
    "# Convert to back to CSV\n",
    "twitter_df.to_csv(\"processed_dataset.csv\")"
   ]
  },
  {
   "cell_type": "code",
   "execution_count": null,
   "metadata": {},
   "outputs": [],
   "source": []
  },
  {
   "cell_type": "code",
   "execution_count": null,
   "metadata": {},
   "outputs": [],
   "source": []
  }
 ],
 "metadata": {
  "kernelspec": {
   "display_name": "Python 3",
   "language": "python",
   "name": "python3"
  },
  "language_info": {
   "codemirror_mode": {
    "name": "ipython",
    "version": 3
   },
   "file_extension": ".py",
   "mimetype": "text/x-python",
   "name": "python",
   "nbconvert_exporter": "python",
   "pygments_lexer": "ipython3",
   "version": "3.8.5"
  }
 },
 "nbformat": 4,
 "nbformat_minor": 4
}
