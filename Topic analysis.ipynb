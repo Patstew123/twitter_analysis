{
 "cells": [
  {
   "cell_type": "code",
   "execution_count": 41,
   "metadata": {},
   "outputs": [
    {
     "name": "stderr",
     "output_type": "stream",
     "text": [
      "C:\\Users\\patri\\anaconda3\\lib\\site-packages\\ipykernel\\ipkernel.py:287: DeprecationWarning: `should_run_async` will not call `transform_cell` automatically in the future. Please pass the result to `transformed_cell` argument and any exception that happen during thetransform in `preprocessing_exc_tuple` in IPython 7.17 and above.\n",
      "  and should_run_async(code)\n",
      "[nltk_data] Downloading package wordnet to\n",
      "[nltk_data]     C:\\Users\\patri\\AppData\\Roaming\\nltk_data...\n",
      "[nltk_data]   Package wordnet is already up-to-date!\n"
     ]
    }
   ],
   "source": [
    "# Import relevant packages\n",
    "import gensim\n",
    "import gensim.corpora as corpora\n",
    "from gensim.utils import simple_preprocess\n",
    "from gensim.models import CoherenceModel\n",
    "from gensim.models.ldamodel import LdaModel\n",
    "from nltk.tokenize import RegexpTokenizer\n",
    "from datetime import datetime\n",
    "import re\n",
    "import pyLDAvis\n",
    "import matplotlib.pyplot as plt\n",
    "from nltk.stem import WordNetLemmatizer, SnowballStemmer\n",
    "from nltk.stem.porter import *\n",
    "import numpy as np\n",
    "np.random.seed(2018)\n",
    "import nltk\n",
    "from nltk import PorterStemmer as stemmer\n",
    "nltk.download('wordnet')\n",
    "import pandas as pd\n",
    "import numpy as np\n",
    "import spacy\n",
    "import re\n",
    "import numpy as np\n",
    "import pandas as pd\n",
    "from pprint import pprint\n",
    "#import pyLDAvis\n",
    "import pyLDAvis.gensim_models as gensimvis\n",
    "import string\n",
    "from sklearn.feature_extraction.text import CountVectorizer\n",
    "from nltk.tokenize import TweetTokenizer\n",
    "from gensim.corpora import Dictionary\n",
    "# feed the LDA model into the pyLDAvis instance\n",
    "#lda_viz = gensimvis.prepare(ldamodel, corpus, dictionary)\n",
    "from gensim.models.ldamulticore import LdaMulticore\n",
    "from sklearn.model_selection import GridSearchCV\n",
    "from sklearn.decomposition import LatentDirichletAllocation, TruncatedSVD\n",
    "import seaborn as sns"
   ]
  },
  {
   "cell_type": "code",
   "execution_count": 30,
   "metadata": {},
   "outputs": [
    {
     "name": "stderr",
     "output_type": "stream",
     "text": [
      "C:\\Users\\patri\\anaconda3\\lib\\site-packages\\ipykernel\\ipkernel.py:287: DeprecationWarning: `should_run_async` will not call `transform_cell` automatically in the future. Please pass the result to `transformed_cell` argument and any exception that happen during thetransform in `preprocessing_exc_tuple` in IPython 7.17 and above.\n",
      "  and should_run_async(code)\n"
     ]
    }
   ],
   "source": [
    "# Read in dataset\n",
    "twitter_df = pd.read_csv(\"processed_dataset.csv\")\n",
    "# Read in any other subsections of the dataset if relevant here\n",
    "# Smell\n",
    "# twitter_df = twitter_df.loc[twitter_df['smell'] == 'Yes']\n",
    "# Sound\n",
    "# twitter_df = twitter_df.loc[twitter_df['sound'] == 'Yes']\n",
    "# Pre-COVID\n",
    "# twitter_df = twitter_df.loc[twitter_df['created_at'] <= \"2020-03-20\"]\n",
    "# Post-COVID\n",
    "# twitter_df = twitter_df.loc[twitter_df['created_at'] >= \"2020-03-20\"]\n",
    "# Just positive tweets\n",
    "# twitter_df = twitter_df.loc[twitter_df['Sentiment'] == 'Positive']\n",
    "# Just negative tweets\n",
    "# twitter_df = twitter_df.loc[twitter_df['Sentiment'] == 'Negative']"
   ]
  },
  {
   "cell_type": "code",
   "execution_count": 31,
   "metadata": {},
   "outputs": [
    {
     "name": "stderr",
     "output_type": "stream",
     "text": [
      "C:\\Users\\patri\\anaconda3\\lib\\site-packages\\ipykernel\\ipkernel.py:287: DeprecationWarning: `should_run_async` will not call `transform_cell` automatically in the future. Please pass the result to `transformed_cell` argument and any exception that happen during thetransform in `preprocessing_exc_tuple` in IPython 7.17 and above.\n",
      "  and should_run_async(code)\n"
     ]
    }
   ],
   "source": [
    "# We want to get rid of any tweet with less than three words due to sparsity issues when it comes to actual topic analysis\n",
    "twitter_df['word_count'] = [len(x.split()) for x in twitter_df['text'].tolist()]\n",
    "twitter_df = twitter_df[twitter_df['word_count'] > 3]"
   ]
  },
  {
   "cell_type": "code",
   "execution_count": 32,
   "metadata": {},
   "outputs": [
    {
     "name": "stderr",
     "output_type": "stream",
     "text": [
      "C:\\Users\\patri\\anaconda3\\lib\\site-packages\\ipykernel\\ipkernel.py:287: DeprecationWarning: `should_run_async` will not call `transform_cell` automatically in the future. Please pass the result to `transformed_cell` argument and any exception that happen during thetransform in `preprocessing_exc_tuple` in IPython 7.17 and above.\n",
      "  and should_run_async(code)\n"
     ]
    }
   ],
   "source": [
    "# Due to difficulties in the topic analysis otherwise - we drop the word amp by first removing the tokenisation structure\n",
    "# removing \"amp\" and then re-tokenising\n",
    "# We then re-tokenise the text\n",
    "twitter_df['text'] = twitter_df['text'].str.replace(\"'\", \"\")\n",
    "twitter_df['text'] = twitter_df['text'].str.replace(\",\", \"\")\n",
    "twitter_df['text'] = twitter_df['text'].str.replace(\"[\", \"\")\n",
    "twitter_df['text'] = twitter_df['text'].str.replace(\"]\", \"\")\n",
    "twitter_df['text'] = twitter_df['text'].str.replace(\"amp\", \"\")\n",
    "new_stopwords = [\"amp\"]\n",
    "twitter_df['text'] = twitter_df['text'].str.split(' ').apply(lambda x: ' '.join(k for k in x if k not in new_stopwords))"
   ]
  },
  {
   "cell_type": "code",
   "execution_count": 33,
   "metadata": {},
   "outputs": [
    {
     "name": "stderr",
     "output_type": "stream",
     "text": [
      "C:\\Users\\patri\\anaconda3\\lib\\site-packages\\ipykernel\\ipkernel.py:287: DeprecationWarning: `should_run_async` will not call `transform_cell` automatically in the future. Please pass the result to `transformed_cell` argument and any exception that happen during thetransform in `preprocessing_exc_tuple` in IPython 7.17 and above.\n",
      "  and should_run_async(code)\n"
     ]
    }
   ],
   "source": [
    "# Here we take the text, tokenise and convert to list\n",
    "twitter_df['tokenised_text'] = twitter_df.apply(lambda row: nltk.word_tokenize(row['text']), axis=1)\n",
    "texts = twitter_df['tokenised_text'].tolist()\n",
    "# Tokenise the list of words\n",
    "def sent_to_words(tweets):\n",
    "    for tweet in tweets:\n",
    "        yield(gensim.utils.simple_preprocess(str(tweet), deacc=True))  # deacc removes punctuation\n",
    "# Apply the function\n",
    "data_words = list(sent_to_words(texts))"
   ]
  },
  {
   "cell_type": "code",
   "execution_count": 34,
   "metadata": {},
   "outputs": [
    {
     "name": "stderr",
     "output_type": "stream",
     "text": [
      "C:\\Users\\patri\\anaconda3\\lib\\site-packages\\ipykernel\\ipkernel.py:287: DeprecationWarning: `should_run_async` will not call `transform_cell` automatically in the future. Please pass the result to `transformed_cell` argument and any exception that happen during thetransform in `preprocessing_exc_tuple` in IPython 7.17 and above.\n",
      "  and should_run_async(code)\n"
     ]
    }
   ],
   "source": [
    "# We vectorise the text separately\n",
    "vectorizer = CountVectorizer()\n",
    "data_vectorized = vectorizer.fit_transform(twitter_df['text'])\n",
    "# Build a dictionary where for each tweet, each word has its own id.\n",
    "tweets_dictionary = Dictionary(data_words)\n",
    "# Build the corpus i.e. vectors with the number of occurence of each word per tweet\n",
    "tweets_corpus = [tweets_dictionary.doc2bow(tweet) for tweet in texts]"
   ]
  },
  {
   "cell_type": "code",
   "execution_count": 35,
   "metadata": {},
   "outputs": [
    {
     "name": "stderr",
     "output_type": "stream",
     "text": [
      "C:\\Users\\patri\\anaconda3\\lib\\site-packages\\ipykernel\\ipkernel.py:287: DeprecationWarning: `should_run_async` will not call `transform_cell` automatically in the future. Please pass the result to `transformed_cell` argument and any exception that happen during thetransform in `preprocessing_exc_tuple` in IPython 7.17 and above.\n",
      "  and should_run_async(code)\n"
     ]
    },
    {
     "name": "stdout",
     "output_type": "stream",
     "text": [
      "1\n",
      "1\n",
      "1\n",
      "1\n",
      "1\n",
      "1\n",
      "1\n",
      "1\n",
      "1\n",
      "1\n",
      "1\n",
      "1\n",
      "1\n"
     ]
    },
    {
     "data": {
      "text/plain": [
       "Text(0, 0.5, 'Coherence Score')"
      ]
     },
     "execution_count": 35,
     "metadata": {},
     "output_type": "execute_result"
    },
    {
     "data": {
      "image/png": "[encoded data removed]",
      "text/plain": [
       "<Figure size 720x360 with 1 Axes>"
      ]
     },
     "metadata": {
      "needs_background": "light"
     },
     "output_type": "display_data"
    }
   ],
   "source": [
    "# Next we plot and compute the topic coherence for each topics from 1-14\n",
    "# Please note that this takes some time but is necessary to understand coherence\n",
    "# Compute the coherence\n",
    "tweets_coherence_score = []\n",
    "for number_of_topics in range(1, 14):\n",
    "    lda = LdaModel(tweets_corpus, num_topics = number_of_topics, id2word = tweets_dictionary, passes=10)\n",
    "    print(1)\n",
    "    cohm = CoherenceModel(model=lda, corpus=tweets_corpus, dictionary=tweets_dictionary, coherence='u_mass')\n",
    "    coh_score = cohm.get_coherence()\n",
    "    tweets_coherence_score.append(coh_score)\n",
    "# Visualize coherence\n",
    "plt.figure(figsize=(10,5))\n",
    "plt.plot(range(1,14), tweets_coherence_score)\n",
    "plt.xlabel(\"Number of Topics\")\n",
    "plt.ylabel(\"Coherence Score\")"
   ]
  },
  {
   "cell_type": "code",
   "execution_count": 36,
   "metadata": {},
   "outputs": [
    {
     "name": "stderr",
     "output_type": "stream",
     "text": [
      "C:\\Users\\patri\\anaconda3\\lib\\site-packages\\ipykernel\\ipkernel.py:287: DeprecationWarning: `should_run_async` will not call `transform_cell` automatically in the future. Please pass the result to `transformed_cell` argument and any exception that happen during thetransform in `preprocessing_exc_tuple` in IPython 7.17 and above.\n",
      "  and should_run_async(code)\n"
     ]
    }
   ],
   "source": [
    "# Now we run our actual defined lda model\n",
    "# topics defined\n",
    "topics = 5\n",
    "tweets_lda = LdaModel(tweets_corpus, num_topics = topics, id2word = tweets_dictionary, passes=10)"
   ]
  },
  {
   "cell_type": "code",
   "execution_count": 37,
   "metadata": {},
   "outputs": [
    {
     "name": "stderr",
     "output_type": "stream",
     "text": [
      "C:\\Users\\patri\\anaconda3\\lib\\site-packages\\ipykernel\\ipkernel.py:287: DeprecationWarning: `should_run_async` will not call `transform_cell` automatically in the future. Please pass the result to `transformed_cell` argument and any exception that happen during thetransform in `preprocessing_exc_tuple` in IPython 7.17 and above.\n",
      "  and should_run_async(code)\n"
     ]
    },
    {
     "data": {
      "text/html": [
       "\n",
       "<link rel=\"stylesheet\" type=\"text/css\" href=\"https://cdn.jsdelivr.net/gh/bmabey/pyLDAvis@3.3.1/pyLDAvis/js/ldavis.v1.0.0.css\">\n",
       "\n",
       "\n",
       "<div id=\"ldavis_el4678421405856928484841533277\"></div>\n",
       "<script type=\"text/javascript\">\n",
       "\n",
       "var ldavis_el4678421405856928484841533277_data = {\"mdsDat\": {\"x\": [-0.07272145302019281, -0.02920323521320476, 0.2049331981319617, -0.026682081303615872, -0.07632642859494831], \"y\": [-0.030244282404693217, 0.05421795414881684, 0.02299563761402978, -0.17954990198845833, 0.13258059263030494], \"topics\": [1, 2, 3, 4, 5], \"cluster\": [1, 1, 1, 1, 1], \"Freq\": [21.193065201697458, 21.16739063874001, 19.984419168677412, 19.66243171561105, 17.99269327527407]}, \"tinfo\": {\"Term\": [\"street\", \"oxford\", \"feel\", \"missed\", \"hotel\", \"hard\", \"rock\", \"pm\", \"town\", \"london\", \"circus\", \"try\", \"today\", \"uk\", \"time\", \"nd\", \"soho\", \"im\", \"people\", \"protest\", \"marble\", \"arch\", \"sketch\", \"week\", \"light\", \"mix\", \"theatre\", \"live\", \"bbc\", \"ve\", \"try\", \"sketch\", \"mix\", \"ve\", \"mr\", \"nhs\", \"blood\", \"died\", \"ban\", \"list\", \"station\", \"brunch\", \"ghost\", \"centre\", \"learnt\", \"irish\", \"stores\", \"halal\", \"kong\", \"read\", \"anne\", \"vegan\", \"chang\", \"harmed\", \"hong\", \"mayne\", \"wolf\", \"centr\", \"sessions\", \"recent\", \"racism\", \"pm\", \"normal\", \"missed\", \"weeks\", \"pain\", \"staff\", \"boy\", \"drop\", \"hair\", \"class\", \"week\", \"ive\", \"hour\", \"time\", \"home\", \"dead\", \"uk\", \"th\", \"new\", \"soho\", \"london\", \"nt\", \"got\", \"oh\", \"today\", \"day\", \"stop\", \"ill\", \"it\", \"years\", \"going\", \"marble\", \"arch\", \"na\", \"gon\", \"rainy\", \"murder\", \"complete\", \"vaccine\", \"power\", \"waste\", \"brand\", \"ah\", \"scandal\", \"history\", \"naked\", \"wen\", \"warmed\", \"creme\", \"gill\", \"brown\", \"table\", \"indecisive\", \"simmons\", \"decorative\", \"fortius\", \"moody\", \"font\", \"version\", \"evil\", \"beat\", \"kill\", \"government\", \"white\", \"makes\", \"hes\", \"think\", \"watching\", \"available\", \"cocktail\", \"man\", \"youre\", \"stuff\", \"red\", \"live\", \"things\", \"new\", \"fuck\", \"do\", \"day\", \"nt\", \"soho\", \"worse\", \"london\", \"let\", \"time\", \"th\", \"year\", \"im\", \"oh\", \"dont\", \"today\", \"miss\", \"need\", \"ill\", \"like\", \"hotel\", \"rock\", \"nd\", \"theatre\", \"streets\", \"poison\", \"aint\", \"hundreds\", \"ale\", \"haw\", \"tonights\", \"happen\", \"activists\", \"wardour\", \"lame\", \"eating\", \"lesson\", \"album\", \"block\", \"met\", \"shock\", \"united\", \"vs\", \"scenes\", \"idling\", \"wanted\", \"wheatgrass\", \"gna\", \"fitzrovia\", \"bout\", \"entry\", \"dogs\", \"money\", \"hard\", \"broken\", \"england\", \"yesterday\", \"friend\", \"london\", \"lockdown\", \"central\", \"today\", \"getting\", \"im\", \"mayfair\", \"boys\", \"protests\", \"palladium\", \"place\", \"niggas\", \"st\", \"bar\", \"photo\", \"miss\", \"got\", \"dis\", \"need\", \"protest\", \"people\", \"check\", \"dont\", \"bad\", \"week\", \"night\", \"oxford\", \"town\", \"circus\", \"regent\", \"fight\", \"protesting\", \"brasserie\", \"travel\", \"weight\", \"dm\", \"mood\", \"million\", \"ronnie\", \"closing\", \"band\", \"area\", \"compton\", \"threat\", \"spotted\", \"com\", \"excuse\", \"light\", \"etnacoffe\", \"election\", \"castle\", \"wigmore\", \"leading\", \"youll\", \"luxembourg\", \"biggest\", \"street\", \"quarantine\", \"dean\", \"covid\", \"topshop\", \"bond\", \"bomb\", \"baker\", \"scar\", \"pit\", \"people\", \"bbc\", \"change\", \"shopping\", \"uk\", \"soho\", \"london\", \"broadcasting\", \"city\", \"stop\", \"protest\", \"going\", \"today\", \"hous\", \"club\", \"st\", \"work\", \"crazy\", \"day\", \"radio\", \"new\", \"world\", \"feel\", \"site\", \"paper\", \"ok\", \"gin\", \"deep\", \"jerk\", \"britain\", \"struggle\", \"darkness\", \"floor\", \"north\", \"drum\", \"proud\", \"photos\", \"terrified\", \"cavendish\", \"golden\", \"venues\", \"mainly\", \"whoop\", \"boots\", \"tottenham\", \"bike\", \"mcclelland\", \"planes\", \"couk\", \"coverage\", \"jacket\", \"trouble\", \"worn\", \"tunes\", \"squar\", \"means\", \"shes\", \"road\", \"mask\", \"taking\", \"post\", \"mad\", \"forgot\", \"wrong\", \"soho\", \"dont\", \"im\", \"ask\", \"twitter\", \"time\", \"house\", \"day\", \"stop\", \"original\", \"weekend\", \"end\", \"london\", \"bar\", \"miss\", \"th\", \"live\", \"cocktails\", \"year\", \"like\", \"come\"], \"Freq\": [240.0, 130.0, 69.0, 132.0, 66.0, 105.0, 65.0, 82.0, 52.0, 579.0, 48.0, 43.0, 209.0, 106.0, 176.0, 36.0, 285.0, 156.0, 151.0, 56.0, 34.0, 34.0, 32.0, 80.0, 32.0, 31.0, 29.0, 90.0, 87.0, 30.0, 42.80407457139931, 32.26022139284099, 30.494013090526536, 29.68809316029779, 24.611270022338303, 22.590457653569963, 22.174198350852944, 21.691199701428648, 20.43793202130595, 18.079984668037074, 15.767783753781487, 14.49812313077334, 15.382689095415847, 13.831702643005169, 13.391942959422542, 12.41674690322111, 12.242408940336285, 11.910155264057643, 12.231207955691655, 11.772622880962183, 11.661800538173146, 11.59714196046056, 11.88751180833858, 11.255370670960595, 11.638395110709553, 11.280576696269732, 11.084851944912211, 12.969005267430747, 11.081273022241353, 11.332001583176122, 13.781828661664958, 73.18828636127448, 19.36030937867601, 101.7339752134864, 29.432553626994466, 33.198485264717036, 14.444409984104906, 21.34499725316817, 29.58781533418886, 26.89947117116956, 15.329092002905426, 47.204266800213894, 49.26887261580107, 23.965453250542293, 78.51332003661912, 33.05362623023184, 25.325305538290202, 43.99432132692805, 41.635556905496195, 53.493750385633604, 65.19004479854964, 83.25319223556097, 36.46443214443335, 33.92267258883456, 26.00099394700033, 40.008111863710674, 37.05159115907102, 30.913179608515005, 28.771757662965165, 25.341705514760985, 25.434715302691295, 25.76856208604812, 33.59393300391085, 33.59357940900156, 27.717049793738934, 21.464836124961266, 20.68975374212792, 20.62034142225425, 16.684482341261415, 16.699285322844354, 13.775948777111514, 14.342214632508966, 13.6535768382424, 13.585105877001386, 12.821825602398363, 13.313232371306322, 12.221474134421424, 11.984859427064457, 11.94987460623885, 11.536505765471706, 11.368352652603189, 11.053333542911352, 12.402328563766384, 10.94690381690574, 11.340052180575888, 10.94653031764726, 10.946327761623069, 10.266442026783256, 11.291017230904655, 10.159986542208093, 9.6670090859796, 9.657603695561525, 26.35947716922365, 17.687828971541148, 24.036763727292097, 16.677221937180438, 18.791840091623502, 38.93032883258481, 16.551449867130682, 23.432111749044328, 17.356074987550098, 26.227946888035326, 27.497865442059037, 15.40805740673811, 21.89870410371418, 45.86990524643631, 23.586279129491093, 66.61627398274767, 23.39695598498443, 26.230499328108948, 49.65495844030869, 37.631209427443615, 62.433972129270366, 18.728804188557604, 78.78250066885995, 22.992047663470494, 41.98766731133873, 32.293413269261364, 25.727764642819203, 32.7456330579748, 23.266083718163713, 27.70440701946601, 31.10396682820097, 27.69330975936611, 22.71731846908756, 22.937952325726695, 22.19223237049256, 65.71518661585358, 65.0477535110509, 35.37458463806451, 29.150935752363992, 22.044431521829605, 18.68864426620922, 16.660066047284225, 15.975190683011858, 15.235229437748758, 14.693630644799264, 16.45519936436541, 13.70041893456601, 13.060942746186912, 12.989523331643733, 12.39635828215065, 13.116694083809923, 12.059961111255488, 12.090348823583367, 12.205645264879202, 11.845021935258037, 11.689530586880851, 12.043366701016632, 11.680922761639048, 11.312078500166939, 10.927885625174547, 10.62439097364786, 10.379979364544337, 10.410382552607851, 10.468366817800973, 10.319053604170985, 11.963475426623296, 10.580730607194084, 21.719500765629864, 83.98937299521792, 26.98545585978782, 28.326503520369453, 28.474626207765276, 16.531485897765616, 235.74228770994551, 31.460532327626048, 26.34081409193589, 90.46183854762933, 32.376516800814464, 65.92211488784083, 23.261262084931843, 15.112257031578249, 20.235406458940496, 20.300921880339143, 32.18477243630395, 17.921172690036553, 38.603011011052345, 38.205253653776374, 32.48696270439859, 42.456791963652854, 37.08028263576133, 23.645128864066226, 30.3597123004782, 27.035645881269634, 39.51977590348061, 22.656616250417393, 28.998391426215473, 26.1281686410414, 25.400411118735732, 25.35907763967556, 129.45945498651213, 51.94086789285334, 47.516600497988236, 26.925550697729992, 25.916719586729922, 20.59536756991881, 17.962487339653084, 15.552058167260011, 14.99398915763023, 14.525354535143546, 14.072581462462834, 14.127127835708785, 15.380233774357063, 13.520129903789432, 16.61754559436283, 13.867811508210288, 12.635353644374572, 12.015974480763557, 11.860111696812366, 11.70225208034309, 11.70164955026955, 30.66145902395844, 11.09914340391648, 10.9316976862411, 10.386838659053948, 10.386089303059961, 10.385884834370746, 10.315390990965374, 9.99814694365299, 10.148206297148565, 222.99999104723702, 12.021889933958475, 21.74162991765656, 21.229307514440574, 18.374628785948623, 17.283377216405203, 15.342402716454501, 14.261348478986013, 13.056098002008923, 22.11946412814028, 71.54618284319761, 47.75949624958365, 25.55452723097121, 16.873181485455447, 49.06421530586716, 85.46515394008887, 126.87993020813762, 25.899822642284942, 21.142849886884623, 48.90544319349229, 29.128172250716368, 35.455773417526494, 47.479091369511245, 24.813841579485885, 27.455070222828315, 30.20858697973135, 28.737919830161026, 21.946986087991487, 29.43619345502583, 21.78984972513034, 24.277113445493292, 22.08969435706999, 68.41261275570703, 23.567654341395183, 24.097743161211294, 16.12238277966092, 15.3249903546677, 14.15218138085115, 14.05503100808096, 13.19667713471103, 13.567457854651874, 12.068466865033987, 11.843861055201721, 11.519743167588931, 11.519582933915665, 11.516097602712046, 11.513438320879931, 11.354146144847968, 11.346673881376589, 12.005670193716252, 11.103757642222744, 11.690685625479706, 10.726467056090334, 11.115446738449615, 10.593820446110476, 11.811146514369586, 10.17022133316357, 10.17009692813774, 10.168550324856637, 10.521147010982144, 9.856448967498698, 9.372985160882788, 10.174005236429176, 12.831339383460245, 18.3166117537429, 15.05321015904117, 14.323403501239987, 19.53532916781088, 23.966305768082492, 20.900480254441163, 18.527292162604, 24.90772139385756, 16.438540736101082, 22.61838228942898, 67.66733707937419, 39.03492921220374, 44.215066906574876, 17.554056716942558, 15.984347939202367, 43.79783434522978, 21.96115949513753, 38.95045322346498, 35.0280722355071, 19.375113408867165, 18.824512688392407, 22.230397847276326, 54.59451858361848, 26.16930181314468, 28.81133812295964, 26.09147800994704, 23.807939165442697, 17.216642420169194, 19.85060534142797, 19.537940678113078, 17.241238786635847], \"Total\": [240.0, 130.0, 69.0, 132.0, 66.0, 105.0, 65.0, 82.0, 52.0, 579.0, 48.0, 43.0, 209.0, 106.0, 176.0, 36.0, 285.0, 156.0, 151.0, 56.0, 34.0, 34.0, 32.0, 80.0, 32.0, 31.0, 29.0, 90.0, 87.0, 30.0, 43.488279100243645, 32.91921687582351, 31.15520786206639, 30.36170727228017, 25.281626611929394, 23.244443146216895, 22.830152845355848, 22.346422054371658, 21.100053277228128, 18.749473729654422, 16.434035949604425, 15.157609693784739, 16.082626382191254, 14.498823515099422, 14.081712735168972, 13.082760574801434, 12.909186341530962, 12.566961692024835, 12.907025356919718, 12.429495075238298, 12.323114458671972, 12.25612281542249, 12.563228788750411, 11.910471943849654, 12.318519906160935, 11.943632298063507, 11.73836581008099, 13.735194934861331, 11.737213926007103, 12.010670393962004, 14.645046481698555, 82.38318571520242, 21.310580099655745, 132.40081616551927, 34.51687694828261, 42.1480905415077, 16.045642812270188, 26.117702631894296, 39.62455695085526, 37.18893911565455, 17.61815853516533, 80.85511816729984, 86.20129343019845, 32.73493171307858, 176.64668183794873, 55.01179038977856, 40.89923826079757, 106.06918685467899, 111.35249267729507, 177.69495185954435, 285.3046713401791, 579.2524294061225, 101.45350005752306, 101.65719005799548, 51.17360015770722, 209.23137072263907, 170.0230618163099, 135.89146541376192, 105.02945407218986, 52.64498622388235, 57.95870779650809, 87.71355541416824, 34.245724483843, 34.24562446138581, 28.522934501889143, 22.121984335014247, 21.34243025287414, 21.27135224142756, 17.33687004701789, 17.393919001446438, 14.43013611348595, 15.024547271864595, 14.320224081950611, 14.249275430654707, 13.473897325227183, 14.00124902508906, 12.871176543793162, 12.653298355350595, 12.616507976978694, 12.194080900333269, 12.020068775731067, 11.702418338034391, 13.136269093834157, 11.595021283637243, 12.01171661537348, 11.594963614614285, 11.594814943398585, 10.920673713998163, 12.01414053635913, 10.814692321004717, 10.31938617363684, 10.316407154336561, 28.242239844130527, 19.11548997388211, 27.50901842130834, 18.50210532259768, 21.50827031948465, 54.17638560522648, 19.138713386239484, 29.307764265306755, 20.544763075001622, 35.50785790551869, 38.0352143608358, 18.034577438586034, 30.01481829710704, 90.96213893363864, 34.210961256520875, 177.69495185954435, 36.089898392579606, 49.72849813818643, 170.0230618163099, 101.45350005752306, 285.3046713401791, 27.01620834534339, 579.2524294061225, 42.13266476856863, 176.64668183794873, 111.35249267729507, 68.78701876731421, 156.69734004320605, 51.17360015770722, 119.01634481220793, 209.23137072263907, 129.04338664631436, 68.90904889752615, 105.02945407218986, 82.7093054056701, 66.40771268796603, 65.73844239933305, 36.05167863307979, 29.835688793001307, 22.723377982158596, 19.374588120004045, 17.335771015659255, 16.662756528120948, 15.902225054800303, 15.359268710780674, 17.210614770076685, 14.370915670533035, 13.732877102520797, 13.6710624007454, 13.06394131821482, 13.823481151568087, 12.742405435790323, 12.775334657987672, 12.900020851170485, 12.521866034483725, 12.361727958264892, 12.742178175136567, 12.360130995030604, 11.979742750147029, 11.596811626850945, 11.307960364153672, 11.053404370816326, 11.086312901162154, 11.149628691725663, 10.99142418619159, 12.74324913238704, 11.273902028575963, 23.994927258604044, 105.19722395871786, 30.926149310243986, 34.282436699997746, 36.49008660243334, 19.171968807842912, 579.2524294061225, 45.26320063305925, 37.09784594989672, 209.23137072263907, 50.98514438305235, 156.69734004320605, 34.73640458238059, 17.91429384558438, 28.224235561340205, 28.878359492229794, 64.95036344493423, 23.716428052163543, 93.13254991688065, 96.59311545564243, 71.55233571573204, 129.04338664631436, 101.65719005799548, 40.205152168681835, 68.90904889752615, 56.673730726114464, 151.70214770156505, 39.37153387912279, 119.01634481220793, 80.80186965303437, 80.85511816729984, 83.39424838137973, 130.19047383112925, 52.6197706457485, 48.18547097858375, 27.594527916780983, 26.622334368692925, 21.282388598845603, 18.62654517032375, 16.22865953517679, 15.677046105190277, 15.194219607952377, 14.741051007469242, 14.804624209559552, 16.131509929583583, 14.189895358303446, 17.45690487230053, 14.57182550677192, 13.315316747576576, 12.697976174307543, 12.538012399157823, 12.376390664972552, 12.376403480597217, 32.43560533393259, 11.762681635510775, 11.599745547920534, 11.050517165829795, 11.050416618395671, 11.05030916284695, 10.985406367517545, 10.661805582612326, 10.822912814958979, 240.62013719976952, 12.873249620991922, 24.38777905308354, 23.837099696711444, 20.55140014809271, 19.362945264214225, 17.126757621259188, 15.98669183410638, 14.359270727392502, 29.622714067304088, 151.70214770156505, 87.70233926275381, 37.222154169793576, 20.649405945196452, 106.06918685467899, 285.3046713401791, 579.2524294061225, 42.0337365826111, 30.37601292260684, 135.89146541376192, 56.673730726114464, 87.71355541416824, 209.23137072263907, 51.8276928926103, 70.09303275048727, 93.13254991688065, 88.57386438253255, 44.696485012767845, 170.0230618163099, 47.182852010064934, 177.69495185954435, 55.556830047236, 69.11302970524287, 24.26456995333359, 24.81664423091258, 16.79007508858737, 15.997842401902352, 14.815394072621352, 14.716914179552225, 13.860242023208308, 14.254212233700054, 12.738182180611219, 12.509990353033974, 12.180973535861266, 12.18097377455213, 12.180445009257461, 12.180656508991797, 12.016195069495556, 12.015315211193945, 12.733803129563585, 11.78180509610067, 12.40498840011032, 11.389790559809812, 11.811970734936036, 11.258918963349625, 12.564193834412846, 10.830720929438753, 10.830605623191678, 10.830378471008533, 11.217607693364947, 10.531072870904955, 10.040092319468785, 10.927066154493563, 13.94670801055881, 20.498533155470117, 16.609443099518366, 16.117847099603193, 25.844482210659574, 36.53523554413287, 31.448984728270773, 27.454396585863847, 45.01497167923339, 22.72545421692287, 39.829194103071906, 285.3046713401791, 119.01634481220793, 156.69734004320605, 27.428507124542094, 23.249402460636155, 176.64668183794873, 45.21649626996216, 170.0230618163099, 135.89146541376192, 36.5242019797075, 35.63576559745378, 54.37540339034811, 579.2524294061225, 96.59311545564243, 129.04338664631436, 111.35249267729507, 90.96213893363864, 31.378031779325163, 68.78701876731421, 82.7093054056701, 56.11175298886259], \"Category\": [\"Default\", \"Default\", \"Default\", \"Default\", \"Default\", \"Default\", \"Default\", \"Default\", \"Default\", \"Default\", \"Default\", \"Default\", \"Default\", \"Default\", \"Default\", \"Default\", \"Default\", \"Default\", \"Default\", \"Default\", \"Default\", \"Default\", \"Default\", \"Default\", \"Default\", \"Default\", \"Default\", \"Default\", \"Default\", \"Default\", \"Topic1\", \"Topic1\", \"Topic1\", \"Topic1\", \"Topic1\", \"Topic1\", \"Topic1\", \"Topic1\", \"Topic1\", \"Topic1\", \"Topic1\", \"Topic1\", \"Topic1\", \"Topic1\", \"Topic1\", \"Topic1\", \"Topic1\", \"Topic1\", \"Topic1\", \"Topic1\", \"Topic1\", \"Topic1\", \"Topic1\", \"Topic1\", \"Topic1\", \"Topic1\", \"Topic1\", \"Topic1\", \"Topic1\", \"Topic1\", \"Topic1\", \"Topic1\", \"Topic1\", \"Topic1\", \"Topic1\", \"Topic1\", \"Topic1\", \"Topic1\", \"Topic1\", \"Topic1\", \"Topic1\", \"Topic1\", \"Topic1\", \"Topic1\", \"Topic1\", \"Topic1\", \"Topic1\", \"Topic1\", \"Topic1\", \"Topic1\", \"Topic1\", \"Topic1\", \"Topic1\", \"Topic1\", \"Topic1\", \"Topic1\", \"Topic1\", \"Topic1\", \"Topic1\", \"Topic1\", \"Topic1\", \"Topic1\", \"Topic2\", \"Topic2\", \"Topic2\", \"Topic2\", \"Topic2\", \"Topic2\", \"Topic2\", \"Topic2\", \"Topic2\", \"Topic2\", \"Topic2\", \"Topic2\", \"Topic2\", \"Topic2\", \"Topic2\", \"Topic2\", \"Topic2\", \"Topic2\", \"Topic2\", \"Topic2\", \"Topic2\", \"Topic2\", \"Topic2\", \"Topic2\", \"Topic2\", \"Topic2\", \"Topic2\", \"Topic2\", \"Topic2\", \"Topic2\", \"Topic2\", \"Topic2\", \"Topic2\", \"Topic2\", \"Topic2\", \"Topic2\", \"Topic2\", \"Topic2\", \"Topic2\", \"Topic2\", \"Topic2\", \"Topic2\", \"Topic2\", \"Topic2\", \"Topic2\", \"Topic2\", \"Topic2\", \"Topic2\", \"Topic2\", \"Topic2\", \"Topic2\", \"Topic2\", \"Topic2\", \"Topic2\", \"Topic2\", \"Topic2\", \"Topic2\", \"Topic2\", \"Topic2\", \"Topic2\", \"Topic2\", \"Topic2\", \"Topic2\", \"Topic2\", \"Topic2\", \"Topic3\", \"Topic3\", \"Topic3\", \"Topic3\", \"Topic3\", \"Topic3\", \"Topic3\", \"Topic3\", \"Topic3\", \"Topic3\", \"Topic3\", \"Topic3\", \"Topic3\", \"Topic3\", \"Topic3\", \"Topic3\", \"Topic3\", \"Topic3\", \"Topic3\", \"Topic3\", \"Topic3\", \"Topic3\", \"Topic3\", \"Topic3\", \"Topic3\", \"Topic3\", \"Topic3\", \"Topic3\", \"Topic3\", \"Topic3\", \"Topic3\", \"Topic3\", \"Topic3\", \"Topic3\", \"Topic3\", \"Topic3\", \"Topic3\", \"Topic3\", \"Topic3\", \"Topic3\", \"Topic3\", \"Topic3\", \"Topic3\", \"Topic3\", \"Topic3\", \"Topic3\", \"Topic3\", \"Topic3\", \"Topic3\", \"Topic3\", \"Topic3\", \"Topic3\", \"Topic3\", \"Topic3\", \"Topic3\", \"Topic3\", \"Topic3\", \"Topic3\", \"Topic3\", \"Topic3\", \"Topic3\", \"Topic3\", \"Topic3\", \"Topic3\", \"Topic4\", \"Topic4\", \"Topic4\", \"Topic4\", \"Topic4\", \"Topic4\", \"Topic4\", \"Topic4\", \"Topic4\", \"Topic4\", \"Topic4\", \"Topic4\", \"Topic4\", \"Topic4\", \"Topic4\", \"Topic4\", \"Topic4\", \"Topic4\", \"Topic4\", \"Topic4\", \"Topic4\", \"Topic4\", \"Topic4\", \"Topic4\", \"Topic4\", \"Topic4\", \"Topic4\", \"Topic4\", \"Topic4\", \"Topic4\", \"Topic4\", \"Topic4\", \"Topic4\", \"Topic4\", \"Topic4\", \"Topic4\", \"Topic4\", \"Topic4\", \"Topic4\", \"Topic4\", \"Topic4\", \"Topic4\", \"Topic4\", \"Topic4\", \"Topic4\", \"Topic4\", \"Topic4\", \"Topic4\", \"Topic4\", \"Topic4\", \"Topic4\", \"Topic4\", \"Topic4\", \"Topic4\", \"Topic4\", \"Topic4\", \"Topic4\", \"Topic4\", \"Topic4\", \"Topic4\", \"Topic4\", \"Topic4\", \"Topic5\", \"Topic5\", \"Topic5\", \"Topic5\", \"Topic5\", \"Topic5\", \"Topic5\", \"Topic5\", \"Topic5\", \"Topic5\", \"Topic5\", \"Topic5\", \"Topic5\", \"Topic5\", \"Topic5\", \"Topic5\", \"Topic5\", \"Topic5\", \"Topic5\", \"Topic5\", \"Topic5\", \"Topic5\", \"Topic5\", \"Topic5\", \"Topic5\", \"Topic5\", \"Topic5\", \"Topic5\", \"Topic5\", \"Topic5\", \"Topic5\", \"Topic5\", \"Topic5\", \"Topic5\", \"Topic5\", \"Topic5\", \"Topic5\", \"Topic5\", \"Topic5\", \"Topic5\", \"Topic5\", \"Topic5\", \"Topic5\", \"Topic5\", \"Topic5\", \"Topic5\", \"Topic5\", \"Topic5\", \"Topic5\", \"Topic5\", \"Topic5\", \"Topic5\", \"Topic5\", \"Topic5\", \"Topic5\", \"Topic5\", \"Topic5\", \"Topic5\", \"Topic5\", \"Topic5\", \"Topic5\", \"Topic5\", \"Topic5\"], \"logprob\": [30.0, 29.0, 28.0, 27.0, 26.0, 25.0, 24.0, 23.0, 22.0, 21.0, 20.0, 19.0, 18.0, 17.0, 16.0, 15.0, 14.0, 13.0, 12.0, 11.0, 10.0, 9.0, 8.0, 7.0, 6.0, 5.0, 4.0, 3.0, 2.0, 1.0, -5.4607, -5.7434, -5.7998, -5.8265, -6.0141, -6.0998, -6.1184, -6.1404, -6.1999, -6.3225, -6.4593, -6.5433, -6.484, -6.5903, -6.6226, -6.6982, -6.7124, -6.7399, -6.7133, -6.7515, -6.761, -6.7665, -6.7418, -6.7964, -6.763, -6.7942, -6.8117, -6.6547, -6.812, -6.7897, -6.5939, -4.9242, -6.2541, -4.5949, -5.8352, -5.7148, -6.547, -6.1565, -5.8299, -5.9252, -6.4875, -5.3628, -5.32, -6.0407, -4.854, -5.7192, -5.9855, -5.4332, -5.4883, -5.2377, -5.04, -4.7954, -5.6209, -5.6932, -5.9591, -5.5282, -5.605, -5.7861, -5.8579, -5.9848, -5.9812, -5.9681, -5.7017, -5.7017, -5.894, -6.1497, -6.1864, -6.1898, -6.4016, -6.4007, -6.5931, -6.5529, -6.6021, -6.6071, -6.6649, -6.6273, -6.7129, -6.7324, -6.7354, -6.7706, -6.7852, -6.8133, -6.6982, -6.823, -6.7877, -6.823, -6.8231, -6.8872, -6.7921, -6.8976, -6.9474, -6.9483, -5.9442, -6.3432, -6.0365, -6.402, -6.2826, -5.5543, -6.4096, -6.062, -6.3621, -5.9492, -5.902, -6.4812, -6.1296, -5.3903, -6.0554, -5.0171, -6.0635, -5.9491, -5.311, -5.5882, -5.082, -6.286, -4.8494, -6.0809, -5.4787, -5.7412, -5.9685, -5.7273, -6.0691, -5.8945, -5.7787, -5.8949, -6.0929, -6.0833, -6.1163, -4.9732, -4.9834, -5.5926, -5.7861, -6.0655, -6.2306, -6.3455, -6.3875, -6.435, -6.4711, -6.3579, -6.5411, -6.5889, -6.5944, -6.6412, -6.5847, -6.6687, -6.6662, -6.6567, -6.6867, -6.6999, -6.67, -6.7006, -6.7327, -6.7672, -6.7954, -6.8187, -6.8158, -6.8102, -6.8246, -6.6767, -6.7995, -6.0804, -4.7279, -5.8633, -5.8148, -5.8095, -6.3533, -3.6958, -5.7098, -5.8874, -4.6536, -5.6811, -4.9701, -6.0118, -6.4431, -6.1511, -6.1479, -5.6871, -6.2726, -5.5052, -5.5156, -5.6777, -5.4101, -5.5455, -5.9954, -5.7454, -5.8614, -5.4818, -6.0381, -5.7913, -5.8955, -5.9238, -5.9254, -4.279, -5.1922, -5.2812, -5.8492, -5.8874, -6.1173, -6.254, -6.3981, -6.4347, -6.4664, -6.4981, -6.4942, -6.4092, -6.5381, -6.3319, -6.5127, -6.6058, -6.6561, -6.6691, -6.6825, -6.6826, -5.7193, -6.7355, -6.7507, -6.8018, -6.8019, -6.8019, -6.8087, -6.8399, -6.825, -3.7351, -6.6556, -6.0631, -6.0869, -6.2313, -6.2926, -6.4117, -6.4848, -6.5731, -6.0459, -4.872, -5.2761, -5.9015, -6.3166, -5.2492, -4.6942, -4.2991, -5.8881, -6.091, -5.2524, -5.7706, -5.574, -5.282, -5.9309, -5.8298, -5.7342, -5.7841, -6.0537, -5.7601, -6.0609, -5.9528, -6.0472, -4.828, -5.8937, -5.8715, -6.2734, -6.3241, -6.4037, -6.4106, -6.4736, -6.4459, -6.563, -6.5818, -6.6095, -6.6095, -6.6098, -6.6101, -6.624, -6.6247, -6.5682, -6.6463, -6.5948, -6.6809, -6.6452, -6.6933, -6.5845, -6.7341, -6.7341, -6.7343, -6.7002, -6.7654, -6.8157, -6.7337, -6.5017, -6.1458, -6.342, -6.3917, -6.0814, -5.8769, -6.0138, -6.1343, -5.8384, -6.2539, -5.9348, -4.839, -5.3891, -5.2645, -6.1883, -6.282, -5.274, -5.9643, -5.3913, -5.4974, -6.0896, -6.1184, -5.9521, -5.0536, -5.789, -5.6928, -5.792, -5.8836, -6.2077, -6.0653, -6.0812, -6.2063], \"loglift\": [30.0, 29.0, 28.0, 27.0, 26.0, 25.0, 24.0, 23.0, 22.0, 21.0, 20.0, 19.0, 18.0, 17.0, 16.0, 15.0, 14.0, 13.0, 12.0, 11.0, 10.0, 9.0, 8.0, 7.0, 6.0, 5.0, 4.0, 3.0, 2.0, 1.0, 1.5356, 1.5313, 1.53, 1.5291, 1.5246, 1.523, 1.5223, 1.5217, 1.5196, 1.5151, 1.5101, 1.507, 1.507, 1.5044, 1.5013, 1.4992, 1.4985, 1.4978, 1.4977, 1.4972, 1.4963, 1.4962, 1.4962, 1.4949, 1.4947, 1.4944, 1.4942, 1.4941, 1.494, 1.4933, 1.4907, 1.4332, 1.4555, 1.288, 1.3921, 1.3128, 1.4464, 1.3497, 1.2594, 1.2276, 1.4123, 1.0133, 0.9921, 1.2397, 0.7406, 1.0421, 1.0722, 0.6715, 0.5677, 0.351, 0.0752, -0.3884, 0.5282, 0.454, 0.8744, -0.1029, 0.0279, 0.0708, 0.2566, 0.8204, 0.7279, 0.3266, 1.5335, 1.5335, 1.524, 1.5226, 1.5216, 1.5216, 1.5144, 1.512, 1.5063, 1.5062, 1.505, 1.505, 1.5031, 1.5023, 1.5009, 1.4984, 1.4984, 1.4973, 1.497, 1.4956, 1.4952, 1.4952, 1.4952, 1.4952, 1.4952, 1.4909, 1.4906, 1.4903, 1.4874, 1.4867, 1.4837, 1.4751, 1.4178, 1.4489, 1.4177, 1.2222, 1.4075, 1.329, 1.384, 1.2498, 1.2283, 1.3953, 1.2374, 0.8681, 1.1808, 0.5716, 1.1193, 0.9131, 0.3219, 0.5609, 0.0333, 1.1863, -0.4423, 0.947, 0.1159, 0.3149, 0.5693, -0.0128, 0.7645, 0.095, -0.3534, 0.0138, 0.443, 0.0313, 0.2371, 1.5997, 1.5997, 1.5913, 1.587, 1.5799, 1.5742, 1.5705, 1.5681, 1.5674, 1.5659, 1.5653, 1.5624, 1.5601, 1.5591, 1.5578, 1.5577, 1.5552, 1.5551, 1.5549, 1.5546, 1.5543, 1.5538, 1.5537, 1.5529, 1.5508, 1.5479, 1.5474, 1.5473, 1.5472, 1.5471, 1.5471, 1.5468, 1.5106, 1.3851, 1.4739, 1.4194, 1.3622, 1.462, 0.7112, 1.2465, 1.2678, 0.7717, 1.1561, 0.7444, 1.2092, 1.4401, 1.2775, 1.2578, 0.9081, 1.33, 0.7295, 0.6827, 0.8206, 0.4986, 0.6017, 1.0794, 0.7905, 0.8701, 0.2651, 1.0576, 0.1982, 0.4812, 0.4523, 0.4198, 1.6208, 1.6135, 1.6125, 1.6019, 1.5996, 1.5936, 1.5902, 1.5839, 1.5819, 1.5814, 1.5801, 1.5796, 1.5788, 1.5781, 1.5772, 1.5769, 1.574, 1.5713, 1.5709, 1.5705, 1.5704, 1.5702, 1.5684, 1.5671, 1.5645, 1.5645, 1.5644, 1.5635, 1.5622, 1.5621, 1.5504, 1.558, 1.5116, 1.5106, 1.5145, 1.5128, 1.5164, 1.5123, 1.5313, 1.3344, 0.8749, 1.0187, 1.2504, 1.4245, 0.8555, 0.421, 0.108, 1.1422, 1.2641, 0.6045, 0.9609, 0.7207, 0.1433, 0.8899, 0.6892, 0.5006, 0.5008, 0.9152, -0.1272, 0.8539, -0.3641, 0.7042, 1.705, 1.6861, 1.6858, 1.6746, 1.6722, 1.6694, 1.6692, 1.6661, 1.6658, 1.6612, 1.6605, 1.6594, 1.6594, 1.6591, 1.6589, 1.6585, 1.6579, 1.6563, 1.6559, 1.6559, 1.6552, 1.6544, 1.6543, 1.6534, 1.6523, 1.6523, 1.6521, 1.6511, 1.649, 1.6464, 1.6438, 1.6319, 1.6027, 1.6168, 1.5972, 1.4353, 1.2936, 1.3066, 1.3219, 1.1234, 1.3913, 1.1494, 0.2763, 0.6004, 0.45, 1.2689, 1.3405, 0.3206, 0.993, 0.2416, 0.3595, 1.0812, 1.077, 0.8208, -0.6466, 0.4093, 0.2158, 0.2641, 0.3748, 1.115, 0.4724, 0.2722, 0.5352]}, \"token.table\": {\"Topic\": [3, 2, 3, 3, 3, 1, 2, 4, 1, 5, 1, 2, 4, 1, 2, 3, 4, 5, 3, 4, 1, 4, 1, 2, 3, 5, 1, 2, 4, 5, 2, 4, 5, 3, 1, 2, 3, 4, 1, 4, 5, 3, 1, 2, 3, 1, 3, 2, 4, 5, 4, 5, 3, 5, 2, 1, 4, 5, 1, 3, 4, 1, 1, 2, 3, 4, 1, 3, 4, 5, 4, 2, 3, 4, 1, 2, 4, 1, 2, 3, 4, 1, 2, 4, 1, 3, 5, 4, 1, 2, 3, 4, 5, 2, 4, 5, 5, 4, 5, 1, 4, 5, 2, 5, 1, 2, 3, 4, 5, 1, 3, 4, 4, 5, 2, 5, 1, 2, 3, 5, 4, 1, 2, 3, 4, 3, 1, 2, 3, 4, 5, 1, 2, 5, 5, 3, 4, 3, 4, 5, 2, 3, 3, 4, 2, 4, 5, 4, 3, 5, 2, 3, 5, 2, 2, 3, 5, 1, 2, 4, 5, 1, 2, 3, 4, 5, 1, 2, 5, 3, 1, 2, 3, 4, 5, 5, 2, 1, 2, 3, 4, 5, 1, 2, 1, 2, 4, 5, 1, 3, 1, 3, 4, 5, 1, 3, 2, 3, 2, 1, 2, 3, 4, 5, 1, 3, 1, 2, 1, 4, 5, 1, 2, 4, 5, 3, 3, 1, 2, 3, 4, 5, 1, 2, 3, 4, 5, 2, 1, 1, 2, 4, 5, 1, 2, 3, 5, 5, 5, 2, 4, 1, 3, 4, 1, 3, 1, 2, 3, 4, 4, 5, 1, 2, 3, 4, 5, 1, 1, 2, 3, 5, 1, 3, 4, 5, 1, 2, 3, 4, 5, 4, 1, 2, 3, 4, 5, 5, 2, 4, 2, 3, 4, 2, 4, 5, 3, 5, 1, 5, 4, 5, 3, 4, 1, 2, 3, 4, 5, 1, 3, 4, 1, 1, 3, 4, 2, 1, 2, 2, 2, 3, 1, 2, 3, 4, 5, 1, 2, 3, 4, 5, 1, 2, 3, 1, 2, 3, 4, 5, 1, 5, 5, 1, 2, 3, 4, 1, 2, 4, 5, 5, 1, 2, 4, 5, 4, 1, 5, 2, 3, 5, 5, 1, 2, 3, 4, 5, 2, 3, 4, 5, 5, 3, 4, 1, 3, 4, 5, 5, 1, 2, 3, 1, 4, 5, 2, 3, 4, 4, 3, 4, 5, 4, 1, 1, 4, 2, 1, 1, 1, 2, 5, 4, 2, 3, 5, 3, 4, 2, 1, 4, 3, 1, 1, 5, 3, 3, 4, 2, 5, 1, 1, 2, 3, 4, 5, 4, 4, 5, 1, 2, 3, 4, 5, 1, 3, 1, 1, 3, 4, 5, 1, 1, 4, 5, 3, 5, 2, 5, 2, 3, 5, 5, 1, 2, 4, 5, 3, 2, 3, 1, 2, 3, 5, 4, 1, 2, 3, 4, 5, 1, 2, 3, 4, 3, 2, 4, 5, 5, 4, 4, 5, 1, 1, 5, 2, 5, 1, 2, 3, 4, 3, 2, 1, 1, 5, 2, 3, 3, 3, 2, 2, 1, 2, 5, 1, 2, 3, 4, 1, 4, 5, 1, 3, 4, 2, 3, 2, 4, 5, 4, 1, 1, 2, 3, 4, 5, 1, 2, 3, 4, 5, 5, 2, 3, 4, 2, 5, 1, 2, 3, 5, 1, 2, 3, 4, 5, 1, 3, 4, 1, 2, 5], \"Freq\": [0.9466333895621719, 0.9825060978105289, 0.980631319174904, 0.9393100314986347, 0.9432642254973022, 0.9737798054415869, 0.9928275665797023, 0.9607581420388148, 0.32812576926387316, 0.6562515385277463, 0.06824130226704164, 0.7847749760709789, 0.13648260453408328, 0.2598949763189221, 0.17326331754594806, 0.3217747325853321, 0.14851141503938406, 0.09900761002625605, 0.06255202829809835, 0.8757283961733767, 0.9478649052315266, 0.9738266963334653, 0.12423245635462135, 0.20705409392436894, 0.39340277845630095, 0.2691703221016796, 0.2736529059743396, 0.1368264529871698, 0.5473058119486792, 0.04560881766238993, 0.9693297143469607, 0.9239656801243392, 0.9550951026505544, 0.9302310545421466, 0.9636378761465577, 0.05838816792495008, 0.05838816792495008, 0.8758225188742512, 0.10329007145913464, 0.8779656074026444, 0.9312586567341818, 0.9098002070162021, 0.8040523431932837, 0.03828820681872779, 0.11486462045618337, 0.11164269254704516, 0.8373201941028386, 0.9776383330234178, 0.9663627814715754, 0.9379345597452141, 0.6185507669274379, 0.38064662580150027, 0.8730475860134489, 0.09700528733482766, 0.9399766511720539, 0.9236284798744087, 0.9049350224912383, 0.9154982459180067, 0.9464736439236598, 0.7008493171036089, 0.26955742965523416, 0.9655955868019267, 0.9551684683753632, 0.2686572075969524, 0.02686572075969524, 0.6985087397520762, 0.1777934286606962, 0.5841784084565732, 0.050798122474484626, 0.2031924898979385, 0.996150894142631, 0.26336570307573626, 0.03292071288446703, 0.6913349705738077, 0.8513943140005489, 0.11351924186673985, 0.9866175645761669, 0.12840077889107224, 0.22826805136190617, 0.2425348045720253, 0.3852023366732167, 0.09734840906652033, 0.8274614770654228, 0.048674204533260164, 0.1912165824229094, 0.25495544323054586, 0.5417803168649099, 0.9695880103366641, 0.28514525295931814, 0.07128631323982954, 0.2138589397194886, 0.12475104816970169, 0.30296683126927554, 0.9805691542876949, 0.9763192454558797, 0.9233287670203452, 0.9806012387566684, 0.8809796605791413, 0.08390282481706107, 0.4474624793042869, 0.49220872723471554, 0.04474624793042869, 0.9840840074853067, 0.9420496449065703, 0.21761753731957953, 0.29407775313456697, 0.08822332594037008, 0.17056509681804882, 0.22938064744496223, 0.6112583281034555, 0.1222516656206911, 0.2445033312413822, 0.9020911642718186, 0.08200828766107442, 0.9486877549262516, 0.9449630520373272, 0.9844976500699409, 0.3730865123222786, 0.5969384197156457, 0.02487243415481857, 0.9872175331827687, 0.3217470987267485, 0.5228390354309663, 0.02010919367042178, 0.1206551620225307, 0.9757047712600568, 0.11763090205878991, 0.23526180411757983, 0.24366401140749339, 0.07561986560922208, 0.32768608430662904, 0.757106257041758, 0.1514212514083516, 0.10094750093890106, 0.9851429140312072, 0.9404288151053272, 0.9482966634532729, 0.2574693542868514, 0.33103202694023753, 0.40459469959362365, 0.14584727578598078, 0.8167447444014924, 0.9416750685272197, 0.9351609047032023, 0.9690498864697221, 0.9695870063393365, 0.9838955156503806, 0.9766235988146564, 0.8968908540802957, 0.9592333536124359, 0.9155877581679709, 0.26402112550656986, 0.7040563346841863, 0.948699919205072, 0.05215948398533372, 0.8867112277506732, 0.05215948398533372, 0.027708584521967193, 0.6372974440052455, 0.24937726069770474, 0.055417169043934386, 0.09806778151759081, 0.1569084504281453, 0.6276338017125812, 0.039227112607036325, 0.058840668910554485, 0.9326834836261522, 0.9151361947453561, 0.937626438813793, 0.9020131480279364, 0.296419406068224, 0.10260671748515444, 0.1368089566468726, 0.3990261235533784, 0.057003731936196914, 0.942373608096709, 0.9492819306793201, 0.3344574051338915, 0.17706568507088374, 0.36396835264570543, 0.06885887752756589, 0.04918491251968993, 0.05231359496232222, 0.9416447093217999, 0.7260223238966892, 0.08066914709963213, 0.13444857849938688, 0.026889715699877376, 0.9548847441474548, 0.9741898373745534, 0.16160122254434436, 0.7985001584544075, 0.028517862801943124, 0.009505954267314374, 0.9235570220775504, 0.9766089963301116, 0.8833811235293815, 0.0929874866873033, 0.9284885924609365, 0.5998714051330267, 0.03635584273533495, 0.09088960683833738, 0.2181350564120097, 0.054533764103002424, 0.9741430051185264, 0.9938604618128956, 0.7331617554714888, 0.2443872518238296, 0.21224174540805005, 0.48236760320011374, 0.30871526604807276, 0.022115822376629204, 0.19904240138966284, 0.30962151327280885, 0.4865480922858425, 0.9602252768320508, 0.9485365765992867, 0.2761130223534004, 0.21898619014235204, 0.18090163533498646, 0.18090163533498646, 0.15233821922946228, 0.0701990218657635, 0.2105970655972905, 0.421194131194581, 0.019145187781571864, 0.280796087463054, 0.9486830365307798, 0.9172376068024262, 0.4748790301451114, 0.3799032241160891, 0.05698548361741337, 0.07598064482321783, 0.5684369462469584, 0.16241055607055954, 0.16241055607055954, 0.1044067860453597, 0.9495708673356356, 0.9512863790054364, 0.9206068691256256, 0.03540795650483175, 0.9297262280163227, 0.9185589331504892, 0.9049520563299467, 0.9231831556634866, 0.9417374184543613, 0.023734553831164497, 0.5458947381167835, 0.33228375363630297, 0.09493821532465799, 0.9557398322259542, 0.030830317168579167, 0.12090538000473228, 0.265991836010411, 0.1692675320066252, 0.20553914600804488, 0.24181076000946455, 0.9600269457980015, 0.021987169864806044, 0.5057049068905389, 0.2088781137156574, 0.2638460383776725, 0.17674401916149463, 0.6848830742507918, 0.06627900718556048, 0.044186004790373656, 0.14328813447549216, 0.136382682211613, 0.40742168356886926, 0.2192481093781627, 0.09494996862833817, 0.9379274385108257, 0.044429662518762694, 0.022214831259381347, 0.28879280637195753, 0.08885932503752539, 0.5553707814845337, 0.9673527788138264, 0.9188143567227957, 0.05404790333663504, 0.7322322869822862, 0.028162780268549466, 0.22530224214839573, 0.992824666800116, 0.3284500516085234, 0.6569001032170468, 0.6621295518784444, 0.3166706552462125, 0.9209928542243799, 0.9232995721290549, 0.060206714578467574, 0.9031007186770136, 0.9583236210125098, 0.9456504806761663, 0.10074131141358492, 0.2169812861215675, 0.32547192918235124, 0.13173863800238028, 0.22473061776876635, 0.7703880002709798, 0.07552823532068428, 0.158609294173437, 0.9629208745073745, 0.08335095074242597, 0.9168604581666857, 0.9497287535947231, 0.9156944215979973, 0.9888604235695616, 0.9872433008326061, 0.9816661745706947, 0.932315702389051, 0.9708285807220415, 0.10158317538832409, 0.33377329056163635, 0.4353564659499604, 0.07255941099166006, 0.04353564659499604, 0.2982639599232558, 0.37705066631807804, 0.11255243770688897, 0.13506292524826677, 0.07878670639482228, 0.9894838028736912, 0.21082432771927778, 0.7589675797894001, 0.2278334581673899, 0.07194740784233365, 0.29978086600972353, 0.19185975424622306, 0.19185975424622306, 0.8915759172743932, 0.04692504827759964, 0.9851429333354618, 0.3548423660059868, 0.37455583078409715, 0.15770771822488303, 0.10842405627960708, 0.5080744743358487, 0.4494504965278662, 0.01954132593599418, 0.01954132593599418, 0.9529439216668899, 0.1095164242663635, 0.05475821213318175, 0.30117016673249963, 0.5202030152652266, 0.990855906764166, 0.7829536184445034, 0.1898069378047281, 0.24239604060208014, 0.6925601160059432, 0.034628005800297165, 0.9670928823690297, 0.1516128831956063, 0.10546983178824787, 0.2636745794706197, 0.4746142430471154, 0.013183728973530984, 0.23758833069459465, 0.44722509307217817, 0.27951568317011133, 0.027951568317011136, 0.9851685737251982, 0.23630515367686084, 0.7426733401272769, 0.23094558989985017, 0.4926839251196804, 0.2617383352198302, 0.015396372659990012, 0.9233094018848683, 0.8861031455175822, 0.09710719402932406, 0.9806660086044726, 0.2549682699493119, 0.07284807712837482, 0.6920567327195608, 0.9701918186978182, 0.47641119887593314, 0.5117009173111874, 0.9867313484323409, 0.7086108658827505, 0.24801380305896267, 0.9851856800699549, 0.9321655645076634, 0.9559546306319581, 0.52985351531245, 0.46627109347495593, 0.9839554235943666, 0.965445492947342, 0.9158522912700954, 0.19990126012451342, 0.7329712871232159, 0.03331687668741891, 0.9784548618271728, 0.11607893613603325, 0.11607893613603325, 0.7738595742402217, 0.9887669623376938, 0.9298571594027596, 0.9648284892048342, 0.06964141974789481, 0.9053384567226325, 0.9182167121130372, 0.9371900409539612, 0.06204302558650151, 0.8686023582110212, 0.9707380748479386, 0.14528262982295972, 0.8232682356634384, 0.9157725204673401, 0.9890964499332805, 0.9720765873838695, 0.22782662370956466, 0.21731154876912323, 0.017525124900735743, 0.29792712331250765, 0.23834169865000612, 0.9570894985560899, 0.048783978463997846, 0.8781116123519612, 0.010737384522301649, 0.08589907617841319, 0.4187579963697643, 0.32212153566904944, 0.16106076783452472, 0.8725110089883171, 0.06232221492773694, 0.9735892052971399, 0.22812322985561526, 0.15453509119251355, 0.3605818794491983, 0.2575584853208559, 0.9295705927951508, 0.054027065861104714, 0.926771975925104, 0.016623712572647605, 0.9681659134162817, 0.9821658167051112, 0.8317355951965152, 0.11089807935953537, 0.913501384166415, 0.31797528875425324, 0.6677481063839319, 0.9154312106604128, 0.37718060000433073, 0.28737569524139484, 0.09878539523922948, 0.23349275238363332, 0.9719902966276637, 0.7015295425358857, 0.29230397605661906, 0.16612403908930676, 0.7198708360536626, 0.09229113282739265, 0.01845822656547853, 0.945032486695022, 0.44722040164033555, 0.2377627451758746, 0.028305088711413642, 0.045288141938261826, 0.24908478066044004, 0.19117592100003364, 0.14816133877502607, 0.4301458222500757, 0.22463170717503952, 0.9296588305386089, 0.0486584852026642, 0.8758527336479556, 0.0486584852026642, 0.9770032128135511, 0.9882217151815241, 0.9859101403488593, 0.8964061000263974, 0.9887721678036943, 0.07170150828732612, 0.9321196077352395, 0.30108300683648903, 0.6881897299119749, 0.4148235817088198, 0.09427808675200448, 0.028283426025601348, 0.461962625084822, 0.9417542146299007, 0.9773530622159572, 0.9880867281593745, 0.9791024601107784, 0.9336430122783631, 0.9246680074825254, 0.9708634969018213, 0.972766055571798, 0.9509136612009896, 0.9511348165353175, 0.9318084429882828, 0.10450023257247675, 0.8882519768660523, 0.05225011628623837, 0.5812866404171327, 0.06183900429969498, 0.3091950214984749, 0.03710340257981699, 0.22449356330291972, 0.22449356330291972, 0.5331722128444344, 0.8401687106122415, 0.1448566742434899, 0.9568129033589993, 0.9483693233966668, 0.9046986488979296, 0.8724411621103036, 0.10905514526378796, 0.9657771968884807, 0.9049432564698929, 0.9370980746360046, 0.2258002418594277, 0.20322021767348494, 0.0790300846507997, 0.3274103506961702, 0.16935018139457078, 0.05399876122250522, 0.37799132855753653, 0.10799752244501044, 0.39599091563170496, 0.05399876122250522, 0.9151587314118783, 0.7032815174182245, 0.2591037169435564, 0.037014816706222343, 0.4268225954059372, 0.5774658643727386, 0.11630101352497327, 0.3779782939561631, 0.2180644003593249, 0.29075253381243316, 0.43134156972192206, 0.20704395346652257, 0.13802930231101507, 0.15528296509989195, 0.06901465115550753, 0.21923762711668984, 0.7673316949084145, 0.9102985966517119, 0.2103314030020943, 0.7098684851320683, 0.052582850750523574], \"Term\": [\"activists\", \"ah\", \"aint\", \"album\", \"ale\", \"anne\", \"arch\", \"area\", \"ask\", \"ask\", \"available\", \"available\", \"available\", \"bad\", \"bad\", \"bad\", \"bad\", \"bad\", \"baker\", \"baker\", \"ban\", \"band\", \"bar\", \"bar\", \"bar\", \"bar\", \"bbc\", \"bbc\", \"bbc\", \"bbc\", \"beat\", \"biggest\", \"bike\", \"block\", \"blood\", \"bomb\", \"bomb\", \"bomb\", \"bond\", \"bond\", \"boots\", \"bout\", \"boy\", \"boy\", \"boy\", \"boys\", \"boys\", \"brand\", \"brasserie\", \"britain\", \"broadcasting\", \"broadcasting\", \"broken\", \"broken\", \"brown\", \"brunch\", \"castle\", \"cavendish\", \"centr\", \"central\", \"central\", \"centre\", \"chang\", \"change\", \"change\", \"change\", \"check\", \"check\", \"check\", \"check\", \"circus\", \"city\", \"city\", \"city\", \"class\", \"class\", \"closing\", \"club\", \"club\", \"club\", \"club\", \"cocktail\", \"cocktail\", \"cocktail\", \"cocktails\", \"cocktails\", \"cocktails\", \"com\", \"come\", \"come\", \"come\", \"come\", \"come\", \"complete\", \"compton\", \"couk\", \"coverage\", \"covid\", \"covid\", \"crazy\", \"crazy\", \"crazy\", \"creme\", \"darkness\", \"day\", \"day\", \"day\", \"day\", \"day\", \"dead\", \"dead\", \"dead\", \"dean\", \"dean\", \"decorative\", \"deep\", \"died\", \"dis\", \"dis\", \"dis\", \"dm\", \"do\", \"do\", \"do\", \"do\", \"dogs\", \"dont\", \"dont\", \"dont\", \"dont\", \"dont\", \"drop\", \"drop\", \"drop\", \"drum\", \"eating\", \"election\", \"end\", \"end\", \"end\", \"england\", \"england\", \"entry\", \"etnacoffe\", \"evil\", \"excuse\", \"feel\", \"fight\", \"fitzrovia\", \"floor\", \"font\", \"forgot\", \"forgot\", \"fortius\", \"friend\", \"friend\", \"friend\", \"fuck\", \"fuck\", \"fuck\", \"fuck\", \"getting\", \"getting\", \"getting\", \"getting\", \"getting\", \"ghost\", \"gill\", \"gin\", \"gna\", \"going\", \"going\", \"going\", \"going\", \"going\", \"golden\", \"gon\", \"got\", \"got\", \"got\", \"got\", \"got\", \"government\", \"government\", \"hair\", \"hair\", \"hair\", \"hair\", \"halal\", \"happen\", \"hard\", \"hard\", \"hard\", \"hard\", \"harmed\", \"haw\", \"hes\", \"hes\", \"history\", \"home\", \"home\", \"home\", \"home\", \"home\", \"hong\", \"hotel\", \"hour\", \"hour\", \"hous\", \"hous\", \"hous\", \"house\", \"house\", \"house\", \"house\", \"hundreds\", \"idling\", \"ill\", \"ill\", \"ill\", \"ill\", \"ill\", \"im\", \"im\", \"im\", \"im\", \"im\", \"indecisive\", \"irish\", \"it\", \"it\", \"it\", \"it\", \"ive\", \"ive\", \"ive\", \"ive\", \"jacket\", \"jerk\", \"kill\", \"kill\", \"kong\", \"lame\", \"leading\", \"learnt\", \"lesson\", \"let\", \"let\", \"let\", \"let\", \"light\", \"light\", \"like\", \"like\", \"like\", \"like\", \"like\", \"list\", \"live\", \"live\", \"live\", \"live\", \"lockdown\", \"lockdown\", \"lockdown\", \"lockdown\", \"london\", \"london\", \"london\", \"london\", \"london\", \"luxembourg\", \"mad\", \"mad\", \"mad\", \"mad\", \"mad\", \"mainly\", \"makes\", \"makes\", \"man\", \"man\", \"man\", \"marble\", \"mask\", \"mask\", \"mayfair\", \"mayfair\", \"mayne\", \"mcclelland\", \"means\", \"means\", \"met\", \"million\", \"miss\", \"miss\", \"miss\", \"miss\", \"miss\", \"missed\", \"missed\", \"missed\", \"mix\", \"money\", \"money\", \"mood\", \"moody\", \"mr\", \"murder\", \"na\", \"naked\", \"nd\", \"need\", \"need\", \"need\", \"need\", \"need\", \"new\", \"new\", \"new\", \"new\", \"new\", \"nhs\", \"niggas\", \"niggas\", \"night\", \"night\", \"night\", \"night\", \"night\", \"normal\", \"normal\", \"north\", \"nt\", \"nt\", \"nt\", \"nt\", \"oh\", \"oh\", \"oh\", \"oh\", \"ok\", \"original\", \"original\", \"original\", \"original\", \"oxford\", \"pain\", \"pain\", \"palladium\", \"palladium\", \"palladium\", \"paper\", \"people\", \"people\", \"people\", \"people\", \"people\", \"photo\", \"photo\", \"photo\", \"photo\", \"photos\", \"pit\", \"pit\", \"place\", \"place\", \"place\", \"place\", \"planes\", \"pm\", \"pm\", \"poison\", \"post\", \"post\", \"post\", \"power\", \"protest\", \"protest\", \"protesting\", \"protests\", \"protests\", \"proud\", \"quarantine\", \"racism\", \"radio\", \"radio\", \"rainy\", \"read\", \"recent\", \"red\", \"red\", \"red\", \"regent\", \"road\", \"road\", \"road\", \"rock\", \"ronnie\", \"scandal\", \"scar\", \"scar\", \"scenes\", \"sessions\", \"shes\", \"shes\", \"shock\", \"shopping\", \"shopping\", \"simmons\", \"site\", \"sketch\", \"soho\", \"soho\", \"soho\", \"soho\", \"soho\", \"spotted\", \"squar\", \"squar\", \"st\", \"st\", \"st\", \"st\", \"st\", \"staff\", \"staff\", \"station\", \"stop\", \"stop\", \"stop\", \"stop\", \"stores\", \"street\", \"street\", \"street\", \"streets\", \"struggle\", \"stuff\", \"stuff\", \"table\", \"taking\", \"taking\", \"terrified\", \"th\", \"th\", \"th\", \"th\", \"theatre\", \"things\", \"things\", \"think\", \"think\", \"think\", \"think\", \"threat\", \"time\", \"time\", \"time\", \"time\", \"time\", \"today\", \"today\", \"today\", \"today\", \"tonights\", \"topshop\", \"topshop\", \"topshop\", \"tottenham\", \"town\", \"travel\", \"trouble\", \"try\", \"tunes\", \"tunes\", \"twitter\", \"twitter\", \"uk\", \"uk\", \"uk\", \"uk\", \"united\", \"vaccine\", \"ve\", \"vegan\", \"venues\", \"version\", \"vs\", \"wanted\", \"wardour\", \"warmed\", \"waste\", \"watching\", \"watching\", \"watching\", \"week\", \"week\", \"week\", \"week\", \"weekend\", \"weekend\", \"weekend\", \"weeks\", \"weeks\", \"weight\", \"wen\", \"wheatgrass\", \"white\", \"white\", \"whoop\", \"wigmore\", \"wolf\", \"work\", \"work\", \"work\", \"work\", \"work\", \"world\", \"world\", \"world\", \"world\", \"world\", \"worn\", \"worse\", \"worse\", \"worse\", \"wrong\", \"wrong\", \"year\", \"year\", \"year\", \"year\", \"years\", \"years\", \"years\", \"years\", \"years\", \"yesterday\", \"yesterday\", \"youll\", \"youre\", \"youre\", \"youre\"]}, \"R\": 30, \"lambda.step\": 0.01, \"plot.opts\": {\"xlab\": \"PC1\", \"ylab\": \"PC2\"}, \"topic.order\": [1, 2, 4, 3, 5]};\n",
       "\n",
       "function LDAvis_load_lib(url, callback){\n",
       "  var s = document.createElement('script');\n",
       "  s.src = url;\n",
       "  s.async = true;\n",
       "  s.onreadystatechange = s.onload = callback;\n",
       "  s.onerror = function(){console.warn(\"failed to load library \" + url);};\n",
       "  document.getElementsByTagName(\"head\")[0].appendChild(s);\n",
       "}\n",
       "\n",
       "if(typeof(LDAvis) !== \"undefined\"){\n",
       "   // already loaded: just create the visualization\n",
       "   !function(LDAvis){\n",
       "       new LDAvis(\"#\" + \"ldavis_el4678421405856928484841533277\", ldavis_el4678421405856928484841533277_data);\n",
       "   }(LDAvis);\n",
       "}else if(typeof define === \"function\" && define.amd){\n",
       "   // require.js is available: use it to load d3/LDAvis\n",
       "   require.config({paths: {d3: \"https://d3js.org/d3.v5\"}});\n",
       "   require([\"d3\"], function(d3){\n",
       "      window.d3 = d3;\n",
       "      LDAvis_load_lib(\"https://cdn.jsdelivr.net/gh/bmabey/pyLDAvis@3.3.1/pyLDAvis/js/ldavis.v3.0.0.js\", function(){\n",
       "        new LDAvis(\"#\" + \"ldavis_el4678421405856928484841533277\", ldavis_el4678421405856928484841533277_data);\n",
       "      });\n",
       "    });\n",
       "}else{\n",
       "    // require.js not available: dynamically load d3 & LDAvis\n",
       "    LDAvis_load_lib(\"https://d3js.org/d3.v5.js\", function(){\n",
       "         LDAvis_load_lib(\"https://cdn.jsdelivr.net/gh/bmabey/pyLDAvis@3.3.1/pyLDAvis/js/ldavis.v3.0.0.js\", function(){\n",
       "                 new LDAvis(\"#\" + \"ldavis_el4678421405856928484841533277\", ldavis_el4678421405856928484841533277_data);\n",
       "            })\n",
       "         });\n",
       "}\n",
       "</script>"
      ],
      "text/plain": [
       "PreparedData(topic_coordinates=              x         y  topics  cluster       Freq\n",
       "topic                                                \n",
       "0     -0.072721 -0.030244       1        1  21.193065\n",
       "1     -0.029203  0.054218       2        1  21.167391\n",
       "3      0.204933  0.022996       3        1  19.984419\n",
       "2     -0.026682 -0.179550       4        1  19.662432\n",
       "4     -0.076326  0.132581       5        1  17.992693, topic_info=           Term        Freq       Total Category  logprob  loglift\n",
       "149      street  240.000000  240.000000  Default  30.0000  30.0000\n",
       "144      oxford  130.000000  130.000000  Default  29.0000  29.0000\n",
       "61         feel   69.000000   69.000000  Default  28.0000  28.0000\n",
       "852      missed  132.000000  132.000000  Default  27.0000  27.0000\n",
       "2066      hotel   66.000000   66.000000  Default  26.0000  26.0000\n",
       "...         ...         ...         ...      ...      ...      ...\n",
       "775        live   23.807939   90.962139   Topic5  -5.8836   0.3748\n",
       "5515  cocktails   17.216642   31.378032   Topic5  -6.2077   1.1150\n",
       "502        year   19.850605   68.787019   Topic5  -6.0653   0.4724\n",
       "731        like   19.537941   82.709305   Topic5  -6.0812   0.2722\n",
       "495        come   17.241239   56.111753   Topic5  -6.2063   0.5352\n",
       "\n",
       "[346 rows x 6 columns], token_table=      Topic      Freq       Term\n",
       "term                            \n",
       "3785      3  0.946633  activists\n",
       "6482      2  0.982506         ah\n",
       "772       3  0.980631       aint\n",
       "3019      3  0.939310      album\n",
       "614       3  0.943264        ale\n",
       "...     ...       ...        ...\n",
       "68        3  0.767332  yesterday\n",
       "444       4  0.910299      youll\n",
       "604       1  0.210331      youre\n",
       "604       2  0.709868      youre\n",
       "604       5  0.052583      youre\n",
       "\n",
       "[544 rows x 3 columns], R=30, lambda_step=0.01, plot_opts={'xlab': 'PC1', 'ylab': 'PC2'}, topic_order=[1, 2, 4, 3, 5])"
      ]
     },
     "execution_count": 37,
     "metadata": {},
     "output_type": "execute_result"
    }
   ],
   "source": [
    "#Creating Topic Distance Visualization using the pyLDAVis package\n",
    "pyLDAvis.enable_notebook()\n",
    "lda_viz = gensimvis.prepare(tweets_lda, tweets_corpus, tweets_dictionary)\n",
    "lda_viz"
   ]
  },
  {
   "cell_type": "code",
   "execution_count": 38,
   "metadata": {},
   "outputs": [
    {
     "name": "stderr",
     "output_type": "stream",
     "text": [
      "C:\\Users\\patri\\anaconda3\\lib\\site-packages\\ipykernel\\ipkernel.py:287: DeprecationWarning: `should_run_async` will not call `transform_cell` automatically in the future. Please pass the result to `transformed_cell` argument and any exception that happen during thetransform in `preprocessing_exc_tuple` in IPython 7.17 and above.\n",
      "  and should_run_async(code)\n"
     ]
    }
   ],
   "source": [
    "# Build the model of topics using topic frequency\n",
    "topics = [tweets_lda[tweets_corpus[i]] for i in range (len(twitter_df))]"
   ]
  },
  {
   "cell_type": "code",
   "execution_count": 39,
   "metadata": {},
   "outputs": [
    {
     "name": "stderr",
     "output_type": "stream",
     "text": [
      "C:\\Users\\patri\\anaconda3\\lib\\site-packages\\ipykernel\\ipkernel.py:287: DeprecationWarning: `should_run_async` will not call `transform_cell` automatically in the future. Please pass the result to `transformed_cell` argument and any exception that happen during thetransform in `preprocessing_exc_tuple` in IPython 7.17 and above.\n",
      "  and should_run_async(code)\n"
     ]
    }
   ],
   "source": [
    "#Convert topics to dataframe\n",
    "def tweets_document_to_dataframe(tweets_doc, num_topics):\n",
    "    # Initialise dataframe with number of columns equal to number of columns\n",
    "    res = pd.DataFrame(columns=range(num_topics))\n",
    "    for tweet_value in tweets_doc:\n",
    "        res.loc[0, tweet_value[0]] = tweet_value[1]\n",
    "    return res\n",
    "tweet_topic = pd.concat([tweets_document_to_dataframe(tweets_document, num_topics=6) for tweets_document in topics]).reset_index(drop=True).fillna(0)"
   ]
  },
  {
   "cell_type": "code",
   "execution_count": 42,
   "metadata": {},
   "outputs": [
    {
     "name": "stderr",
     "output_type": "stream",
     "text": [
      "C:\\Users\\patri\\anaconda3\\lib\\site-packages\\ipykernel\\ipkernel.py:287: DeprecationWarning: `should_run_async` will not call `transform_cell` automatically in the future. Please pass the result to `transformed_cell` argument and any exception that happen during thetransform in `preprocessing_exc_tuple` in IPython 7.17 and above.\n",
      "  and should_run_async(code)\n"
     ]
    },
    {
     "data": {
      "image/png": "[encoded data removed]",
      "text/plain": [
       "<Figure size 720x360 with 1 Axes>"
      ]
     },
     "metadata": {},
     "output_type": "display_data"
    }
   ],
   "source": [
    "# Plot the distribution by topic\n",
    "sns.set(rc={'figure.figsize':(10,5)})\n",
    "tweet_topic.idxmax(axis=1).value_counts().plot.bar(color='lightblue')\n",
    "df = pd.DataFrame(tweet_topic.idxmax(axis=1).value_counts())\n",
    "df = df.reset_index()"
   ]
  },
  {
   "cell_type": "code",
   "execution_count": null,
   "metadata": {},
   "outputs": [],
   "source": [
    "# Final step is to replace topic number with the name of the topic that you have defined\n",
    "# Unfortunately this has be done manually to restructure the graph\n",
    "# Rename the topic numbers above in the graph by full name - example given below\n",
    "df = df.replace([1, 0, 4, 5, 2, 3],[\"Photography - Topic 2\", \"Good times - Topic 1\", \"Shopping - Topic 5\", \"Food - Topic 6\", \"Street observations - Topic 3\", \"Positive emotions - Topic 4\"])\n",
    "df = df.reset_index()\n",
    "df = df.rename(columns={\"index\":\"Topic description\", 0:\"Tweet count\"})\n",
    "ax = df.plot.bar(x = 'Topic description', y = \"Tweet count\", rot = 45)"
   ]
  },
  {
   "cell_type": "code",
   "execution_count": null,
   "metadata": {},
   "outputs": [],
   "source": []
  }
 ],
 "metadata": {
  "kernelspec": {
   "display_name": "Python 3",
   "language": "python",
   "name": "python3"
  },
  "language_info": {
   "codemirror_mode": {
    "name": "ipython",
    "version": 3
   },
   "file_extension": ".py",
   "mimetype": "text/x-python",
   "name": "python",
   "nbconvert_exporter": "python",
   "pygments_lexer": "ipython3",
   "version": "3.8.5"
  }
 },
 "nbformat": 4,
 "nbformat_minor": 4
}
